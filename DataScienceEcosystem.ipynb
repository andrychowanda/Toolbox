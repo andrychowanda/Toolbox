{
  "nbformat": 4,
  "nbformat_minor": 0,
  "metadata": {
    "colab": {
      "provenance": []
    },
    "kernelspec": {
      "name": "python3",
      "display_name": "Python 3"
    },
    "language_info": {
      "name": "python"
    }
  },
  "cells": [
    {
      "cell_type": "markdown",
      "source": [
        "<center>\n",
        "    <img src=\"https://cf-courses-data.s3.us.cloud-object-storage.appdomain.cloud/IBMDeveloperSkillsNetwork-DS0105EN-SkillsNetwork/labs/Module2/images/SN_web_lightmode.png\" width=\"300\" alt=\"cognitiveclass.ai logo\">\n",
        "</center>\n"
      ],
      "metadata": {
        "id": "BkJAt6rMME_z"
      }
    },
    {
      "cell_type": "markdown",
      "source": [
        "#### Add your code below following the instructions given in the course\n"
      ],
      "metadata": {
        "id": "vTDrUTkJMKB4"
      }
    },
    {
      "cell_type": "markdown",
      "source": [
        "<h1>Data Science Tools and Ecosystem"
      ],
      "metadata": {
        "id": "xSw15ZjlML6a"
      }
    },
    {
      "cell_type": "markdown",
      "source": [
        "### Summary of Data Science Tools and Ecosystem\n",
        "\n",
        "**Data Science Tools and Ecosystem** encompasses a wide range of software tools, programming languages, libraries, and platforms that facilitate data analysis, machine learning, and data-driven decision-making. This summary highlights the core components and their functionalities within the ecosystem.\n",
        "\n",
        "#### Programming Languages\n",
        "- **Python**: Widely used for its simplicity and powerful libraries like pandas, NumPy, scikit-learn, and TensorFlow.\n",
        "- **R**: Popular for statistical analysis and data visualization with packages like ggplot2, dplyr, and caret.\n",
        "- **SQL**: Essential for database management and querying relational databases.\n",
        "\n",
        "#### Libraries and Frameworks\n",
        "- **pandas**: Data manipulation and analysis library for Python.\n",
        "- **NumPy**: Fundamental package for numerical computing in Python.\n",
        "- **scikit-learn**: Machine learning library for Python providing simple and efficient tools.\n",
        "- **TensorFlow**: Open-source platform for machine learning developed by Google.\n",
        "- **Keras**: High-level neural networks API, written in Python and capable of running on top of TensorFlow.\n",
        "- **ggplot2**: Data visualization package for R.\n",
        "\n",
        "#### Integrated Development Environments (IDEs)\n",
        "- **Jupyter Notebook**: Web-based interactive environment for creating and sharing documents containing live code, equations, visualizations, and narrative text.\n",
        "- **RStudio**: Integrated development environment for R, providing a user-friendly interface and advanced features for data analysis.\n",
        "\n",
        "#### Data Visualization Tools\n",
        "- **Matplotlib**: Plotting library for Python.\n",
        "- **Seaborn**: Statistical data visualization library based on Matplotlib.\n",
        "- **Tableau**: Powerful data visualization tool for creating interactive and shareable dashboards.\n",
        "- **Power BI**: Business analytics service by Microsoft for visualizing data and sharing insights.\n",
        "\n",
        "#### Data Management Tools\n",
        "- **MySQL**: Open-source relational database management system.\n",
        "- **PostgreSQL**: Advanced open-source relational database with an emphasis on extensibility and standards compliance.\n",
        "- **MongoDB**: NoSQL database known for its scalability and flexibility.\n",
        "\n",
        "#### Cloud Platforms\n",
        "- **Amazon Web Services (AWS)**: Cloud platform providing a range of services including data storage, machine learning, and analytics.\n",
        "- **Google Cloud Platform (GCP)**: Offers tools for data management, machine learning, and large-scale data processing.\n",
        "- **Microsoft Azure**: Cloud computing service providing analytics, storage, and machine learning capabilities.\n",
        "\n",
        "#### Big Data Technologies\n",
        "- **Apache Hadoop**: Framework for distributed storage and processing of large data sets.\n",
        "- **Apache Spark**: Unified analytics engine for large-scale data processing, with built-in modules for SQL, streaming, machine learning, and graph processing.\n",
        "\n",
        "#### Collaboration and Version Control\n",
        "- **Git**: Distributed version control system for tracking changes in source code during software development.\n",
        "- **GitHub**: Platform for version control and collaboration, allowing multiple people to work on projects simultaneously.\n",
        "\n",
        "### Conclusion\n",
        "The Data Science Tools and Ecosystem is vast and continuously evolving, encompassing a variety of tools and technologies that cater to different aspects of data science workflows. From data manipulation and analysis to machine learning and data visualization, these tools collectively enable data scientists to derive meaningful insights and drive data-driven decision-making."
      ],
      "metadata": {
        "id": "KB_cVLxAMQYt"
      }
    },
    {
      "cell_type": "markdown",
      "source": [
        "#### Programming Languages\n",
        "<ol>\n",
        "  <li>Python: Widely used for its simplicity and powerful libraries like pandas, NumPy, scikit-learn, and TensorFlow.</li>\n",
        "  <li>R: Popular for statistical analysis and data visualization with packages like ggplot2, dplyr, and caret.</li>\n",
        "  <li>SQL: Essential for database management and querying relational databases.</li>\n",
        "</ol>"
      ],
      "metadata": {
        "id": "X68EEb15MWKA"
      }
    },
    {
      "cell_type": "markdown",
      "source": [
        "#### Libraries and Frameworks\n",
        "<ol>\n",
        "    <li>pandas: Data manipulation and analysis library for Python.</li>\n",
        "<li>NumPy: Fundamental package for numerical computing in Python.</li>\n",
        "<li>scikit-learn: Machine learning library for Python providing simple and efficient tools.</li>\n",
        "<li>TensorFlow: Open-source platform for machine learning developed by Google.</li>\n",
        "<li>Keras: High-level neural networks API, written in Python and capable of running on top of TensorFlow.</li>\n",
        "<li>ggplot2: Data visualization package for R.</li>"
      ],
      "metadata": {
        "id": "Ejgz-BmMMYaP"
      }
    },
    {
      "cell_type": "markdown",
      "source": [
        "<table>\n",
        "    <tr>\n",
        "        <th> Data Science Tools </th>\n",
        "    </tr>\n",
        "    <tr>\n",
        "        <td>Matplotlib</td>\n",
        "    </tr>\n",
        "    <tr>\n",
        "        <td>Seaborn</td>\n",
        "    </tr>\n",
        "    <tr>\n",
        "        <td>Tableau</td>\n",
        "    </tr>    \n",
        "</table>"
      ],
      "metadata": {
        "id": "Gu3CxKo9MYiz"
      }
    },
    {
      "cell_type": "markdown",
      "source": [
        "<h3>Below are a few examples of evaluating arithmetic expressions in Python</h3>"
      ],
      "metadata": {
        "id": "XGbHp74SMapk"
      }
    },
    {
      "cell_type": "markdown",
      "source": [
        "$(3*4)+5$"
      ],
      "metadata": {
        "id": "_OB53HXLMfxS"
      }
    },
    {
      "cell_type": "markdown",
      "source": [
        "This a simple arithmetic expression to mutiply then add integers"
      ],
      "metadata": {
        "id": "2acHSJJcMuuj"
      }
    },
    {
      "cell_type": "code",
      "source": [
        "print((3*4)+5)"
      ],
      "metadata": {
        "colab": {
          "base_uri": "https://localhost:8080/"
        },
        "id": "PQWTbr-6Mvv2",
        "outputId": "8e00f5d7-cba6-49c9-8ccd-d3e6892a5369"
      },
      "execution_count": 1,
      "outputs": [
        {
          "output_type": "stream",
          "name": "stdout",
          "text": [
            "17\n"
          ]
        }
      ]
    },
    {
      "cell_type": "markdown",
      "source": [
        "This will convert 200 minutes to hours by diving by 60"
      ],
      "metadata": {
        "id": "mrOP7Jb3Mfzv"
      }
    },
    {
      "cell_type": "code",
      "source": [
        "min = 200\n",
        "hours = min / 60\n",
        "print(hours)"
      ],
      "metadata": {
        "colab": {
          "base_uri": "https://localhost:8080/"
        },
        "id": "V48wN63jM1DN",
        "outputId": "3b2f1920-c95a-4ce2-e3eb-fe8b5a55eac7"
      },
      "execution_count": 2,
      "outputs": [
        {
          "output_type": "stream",
          "name": "stdout",
          "text": [
            "3.3333333333333335\n"
          ]
        }
      ]
    },
    {
      "cell_type": "markdown",
      "source": [
        "<b>Objectives:</b>"
      ],
      "metadata": {
        "id": "DKInzt3cM0JU"
      }
    },
    {
      "cell_type": "markdown",
      "source": [
        "#### Programming Languages\n",
        "- **Python**: Widely used for its simplicity and powerful libraries like pandas, NumPy, scikit-learn, and TensorFlow.\n",
        "- **R**: Popular for statistical analysis and data visualization with packages like ggplot2, dplyr, and caret.\n",
        "- **SQL**: Essential for database management and querying relational databases."
      ],
      "metadata": {
        "id": "pDTcFitIMf3k"
      }
    },
    {
      "cell_type": "markdown",
      "source": [
        "<h2> Author: Andry Chowanda </h2>"
      ],
      "metadata": {
        "id": "jLFEAaY-NGx1"
      }
    }
  ]
}